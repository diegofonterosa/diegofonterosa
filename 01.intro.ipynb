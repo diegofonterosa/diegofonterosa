{
 "cells": [
  {
   "cell_type": "markdown",
   "id": "f91b010a",
   "metadata": {},
   "source": [
    "### Tecnologías utilizadas\n",
    "\n",
    "- Jupyter Notebook\n",
    "- Markdown\n",
    "- Python"
   ]
  },
  {
   "cell_type": "markdown",
   "id": "960b7244",
   "metadata": {},
   "source": []
  },
  {
   "cell_type": "code",
   "execution_count": 7,
   "id": "1f09b0dc",
   "metadata": {},
   "outputs": [
    {
     "name": "stdout",
     "output_type": "stream",
     "text": [
      "Hola mundo!\n"
     ]
    }
   ],
   "source": [
    "\n",
    "print(\"Hola mundo!\")\n"
   ]
  },
  {
   "cell_type": "markdown",
   "id": "15301f81",
   "metadata": {},
   "source": [
    "### Esta es mi segunda ejecución de Python y Jupyter Notebook"
   ]
  },
  {
   "cell_type": "code",
   "execution_count": 8,
   "id": "1b016ab2",
   "metadata": {},
   "outputs": [
    {
     "name": "stdout",
     "output_type": "stream",
     "text": [
      "Adios\n"
     ]
    }
   ],
   "source": [
    "print(\"Adios\")"
   ]
  }
 ],
 "metadata": {
  "kernelspec": {
   "display_name": "base",
   "language": "python",
   "name": "python3"
  },
  "language_info": {
   "codemirror_mode": {
    "name": "ipython",
    "version": 3
   },
   "file_extension": ".py",
   "mimetype": "text/x-python",
   "name": "python",
   "nbconvert_exporter": "python",
   "pygments_lexer": "ipython3",
   "version": "3.12.9"
  }
 },
 "nbformat": 4,
 "nbformat_minor": 5
}
